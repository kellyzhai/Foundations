{
 "cells": [
  {
   "cell_type": "code",
   "execution_count": 1,
   "metadata": {
    "collapsed": false
   },
   "outputs": [
    {
     "name": "stderr",
     "output_type": "stream",
     "text": [
      "also installing the dependencies 'nutshell.bbdb', 'nutshell.audioscrobbler'\n",
      "\n"
     ]
    },
    {
     "name": "stdout",
     "output_type": "stream",
     "text": [
      "package 'nutshell.bbdb' successfully unpacked and MD5 sums checked\n",
      "package 'nutshell.audioscrobbler' successfully unpacked and MD5 sums checked\n",
      "package 'nutshell' successfully unpacked and MD5 sums checked\n",
      "\n",
      "The downloaded binary packages are in\n",
      "\tC:\\Users\\kellyzhai\\AppData\\Local\\Temp\\Rtmpsdhcn6\\downloaded_packages\n"
     ]
    },
    {
     "name": "stderr",
     "output_type": "stream",
     "text": [
      "Warning message:\n",
      "\"package 'nutshell' was built under R version 3.3.3\"Loading required package: nutshell.bbdb\n",
      "Warning message:\n",
      "\"package 'nutshell.bbdb' was built under R version 3.3.3\"Loading required package: nutshell.audioscrobbler\n",
      "Warning message:\n",
      "\"package 'nutshell.audioscrobbler' was built under R version 3.3.3\""
     ]
    }
   ],
   "source": [
    "install.packages(\"nutshell\", repos = \"http://cran.us.r-project.org\")\n",
    "library(nutshell)"
   ]
  },
  {
   "cell_type": "code",
   "execution_count": 2,
   "metadata": {
    "collapsed": true
   },
   "outputs": [],
   "source": [
    "# load data\n",
    "data(mort06.smpl)"
   ]
  },
  {
   "cell_type": "code",
   "execution_count": 4,
   "metadata": {
    "collapsed": false
   },
   "outputs": [
    {
     "data": {
      "text/plain": [
       " ResidentStatus  Education1989    Education2003    EducationFlag   \n",
       " Min.   :1.000   Min.   : 0.00    Min.   :1.00     Min.   :0.0000  \n",
       " 1st Qu.:1.000   1st Qu.:10.00    1st Qu.:2.00     1st Qu.:0.0000  \n",
       " Median :1.000   Median :12.00    Median :3.00     Median :0.0000  \n",
       " Mean   :1.221   Mean   :17.98    Mean   :3.42     Mean   :0.4834  \n",
       " 3rd Qu.:1.000   3rd Qu.:14.00    3rd Qu.:4.00     3rd Qu.:1.0000  \n",
       " Max.   :4.000   Max.   :99.00    Max.   :9.00     Max.   :1.0000  \n",
       "                 NA's   :117493   NA's   :125580                   \n",
       "  MonthOfDeath    Sex          AgeDetail    AgeSubstitution   AgeRecode52   \n",
       " Min.   : 1.000   F:122635   Min.   :1001   Min.   :1        Min.   : 1.00  \n",
       " 1st Qu.: 3.000   M:120438   1st Qu.:1063   1st Qu.:1        1st Qu.:38.00  \n",
       " Median : 6.000              Median :1078   Median :1        Median :41.00  \n",
       " Mean   : 6.451              Mean   :1107   Mean   :1        Mean   :39.84  \n",
       " 3rd Qu.:10.000              3rd Qu.:1086   3rd Qu.:1        3rd Qu.:43.00  \n",
       " Max.   :12.000              Max.   :9999   Max.   :1        Max.   :52.00  \n",
       "                                            NA's   :243063                  \n",
       "  AgeRecode27  AgeRecode12    AgeRecodeInfant22  PlaceOfDeath   MaritalStatus\n",
       " Min.   : 1   Min.   : 1.00   Min.   : 1.00     Min.   :1.000   D:30792      \n",
       " 1st Qu.:18   1st Qu.: 8.00   1st Qu.: 2.00     1st Qu.:1.000   M:92332      \n",
       " Median :21   Median :10.00   Median : 6.00     Median :4.000   S:29745      \n",
       " Mean   :20   Mean   : 9.22   Mean   : 7.46     Mean   :3.413   U: 1326      \n",
       " 3rd Qu.:23   3rd Qu.:11.00   3rd Qu.:12.00     3rd Qu.:6.000   W:88878      \n",
       " Max.   :27   Max.   :12.00   Max.   :22.00     Max.   :9.000                \n",
       "                              NA's   :240247                                 \n",
       " DayOfWeekofDeath CurrentDataYear InjuryAtWork MannerOfDeath  \n",
       " Min.   :1.00     Min.   :2006    N: 19184     Min.   :1.00   \n",
       " 1st Qu.:2.00     1st Qu.:2006    U:223383     1st Qu.:7.00   \n",
       " Median :4.00     Median :2006    Y:   506     Median :7.00   \n",
       " Mean   :4.01     Mean   :2006                 Mean   :6.43   \n",
       " 3rd Qu.:6.00     3rd Qu.:2006                 3rd Qu.:7.00   \n",
       " Max.   :9.00     Max.   :2006                 Max.   :7.00   \n",
       "                                               NA's   :69356  \n",
       " MethodOfDisposition Autopsy     ActivityCode    PlaceOfInjury   \n",
       " B: 66767            N:196154   Min.   :0.00     Min.   :0.00    \n",
       " C: 42293            U: 26756   1st Qu.:9.00     1st Qu.:0.00    \n",
       " D:   653            Y: 20163   Median :9.00     Median :2.00    \n",
       " E:  2366                       Mean   :8.98     Mean   :4.01    \n",
       " O:   244                       3rd Qu.:9.00     3rd Qu.:9.00    \n",
       " R:  4099                       Max.   :9.00     Max.   :9.00    \n",
       " U:126651                       NA's   :225900   NA's   :227330  \n",
       "    ICDCode       CauseRecode358  CauseRecode113   CauseRecode130  \n",
       " I251   : 19303   Min.   :  6.0   Min.   :  1.00   Min.   :  9.0   \n",
       " C349   : 15759   1st Qu.:134.0   1st Qu.: 43.00   1st Qu.: 89.0   \n",
       " I219   : 14105   Median :214.0   Median : 63.00   Median :108.0   \n",
       " J449   : 10256   Mean   :210.4   Mean   : 66.85   Mean   :104.4   \n",
       " I64    :  7294   3rd Qu.:257.0   3rd Qu.: 86.00   3rd Qu.:128.0   \n",
       " G309   :  7122   Max.   :456.0   Max.   :135.00   Max.   :158.0   \n",
       " (Other):169234                                    NA's   :240247  \n",
       " CauseRecord39                                               Race       \n",
       " Min.   : 1.00   White                                         :208082  \n",
       " 1st Qu.:16.00   Black                                         : 29013  \n",
       " Median :22.00   American Indian (includes Aleuts and  Eskimos):  1392  \n",
       " Mean   :23.53   Chinese                                       :   966  \n",
       " 3rd Qu.:34.00   Filipino                                      :   919  \n",
       " Max.   :42.00   Other Asian or Pacific Islander               :   757  \n",
       "                 (Other)                                       :  1944  \n",
       " BridgeRaceFlag   RaceImputationFlag  RaceRecode3     RaceRecord5   \n",
       " Min.   :1        Min.   :1.00       Min.   :1.000   Min.   :1.000  \n",
       " 1st Qu.:1        1st Qu.:1.00       1st Qu.:1.000   1st Qu.:1.000  \n",
       " Median :1        Median :2.00       Median :1.000   Median :1.000  \n",
       " Mean   :1        Mean   :1.63       Mean   :1.263   Mean   :1.187  \n",
       " 3rd Qu.:1        3rd Qu.:2.00       3rd Qu.:1.000   3rd Qu.:1.000  \n",
       " Max.   :1        Max.   :2.00       Max.   :3.000   Max.   :4.000  \n",
       " NA's   :242524   NA's   :241803                                    \n",
       " HispanicOrigin  HispanicOriginRecode      age        \n",
       " Min.   :100.0   Min.   :1.000        Min.   :  0.00  \n",
       " 1st Qu.:100.0   1st Qu.:6.000        1st Qu.: 63.00  \n",
       " Median :100.0   Median :6.000        Median : 77.00  \n",
       " Mean   :109.1   Mean   :5.956        Mean   : 72.29  \n",
       " 3rd Qu.:100.0   3rd Qu.:6.000        3rd Qu.: 86.00  \n",
       " Max.   :998.0   Max.   :9.000        Max.   :112.00  \n",
       "                                      NA's   :29      \n",
       "                          Cause      \n",
       " Heart Disease               :82597  \n",
       " Cancer                      :57162  \n",
       " Other                       :52966  \n",
       " Chronic respiratory diseases:12387  \n",
       " Accidents                   :12371  \n",
       " Alzheimer's Disease         : 7336  \n",
       " (Other)                     :18254  "
      ]
     },
     "metadata": {},
     "output_type": "display_data"
    }
   ],
   "source": [
    "summary(mort06.smpl)"
   ]
  },
  {
   "cell_type": "code",
   "execution_count": 5,
   "metadata": {
    "collapsed": false
   },
   "outputs": [
    {
     "data": {
      "text/html": [
       "72.2922310363556"
      ],
      "text/latex": [
       "72.2922310363556"
      ],
      "text/markdown": [
       "72.2922310363556"
      ],
      "text/plain": [
       "[1] 72.29223"
      ]
     },
     "metadata": {},
     "output_type": "display_data"
    }
   ],
   "source": [
    "mean(mort06.smpl$age,na.rm=T)"
   ]
  },
  {
   "cell_type": "code",
   "execution_count": 6,
   "metadata": {
    "collapsed": false
   },
   "outputs": [
    {
     "data": {
      "text/html": [
       "77"
      ],
      "text/latex": [
       "77"
      ],
      "text/markdown": [
       "77"
      ],
      "text/plain": [
       "[1] 77"
      ]
     },
     "metadata": {},
     "output_type": "display_data"
    }
   ],
   "source": [
    "median(mort06.smpl$age,na.rm=T)"
   ]
  },
  {
   "cell_type": "code",
   "execution_count": 8,
   "metadata": {
    "collapsed": false
   },
   "outputs": [
    {
     "data": {
      "text/html": [
       "<dl class=dl-horizontal>\n",
       "\t<dt>25%</dt>\n",
       "\t\t<dd>63</dd>\n",
       "\t<dt>75%</dt>\n",
       "\t\t<dd>86</dd>\n",
       "</dl>\n"
      ],
      "text/latex": [
       "\\begin{description*}\n",
       "\\item[25\\textbackslash{}\\%] 63\n",
       "\\item[75\\textbackslash{}\\%] 86\n",
       "\\end{description*}\n"
      ],
      "text/markdown": [
       "25%\n",
       ":   6375%\n",
       ":   86\n",
       "\n"
      ],
      "text/plain": [
       "25% 75% \n",
       " 63  86 "
      ]
     },
     "metadata": {},
     "output_type": "display_data"
    }
   ],
   "source": [
    "quantile(mort06.smpl$age,c(0.25,0.75),na.rm=T)"
   ]
  },
  {
   "cell_type": "code",
   "execution_count": 27,
   "metadata": {
    "collapsed": false
   },
   "outputs": [
    {
     "data": {
      "text/html": [
       "75.3032351350716"
      ],
      "text/latex": [
       "75.3032351350716"
      ],
      "text/markdown": [
       "75.3032351350716"
      ],
      "text/plain": [
       "[1] 75.30324"
      ]
     },
     "metadata": {},
     "output_type": "display_data"
    }
   ],
   "source": [
    "mean(mort06.smpl$age,na.rm=T,trim=0.15)"
   ]
  },
  {
   "cell_type": "code",
   "execution_count": 10,
   "metadata": {
    "collapsed": false
   },
   "outputs": [
    {
     "data": {
      "text/html": [
       "19.0061575713699"
      ],
      "text/latex": [
       "19.0061575713699"
      ],
      "text/markdown": [
       "19.0061575713699"
      ],
      "text/plain": [
       "[1] 19.00616"
      ]
     },
     "metadata": {},
     "output_type": "display_data"
    }
   ],
   "source": [
    "sd(mort06.smpl$age,na.rm=T)"
   ]
  },
  {
   "cell_type": "code",
   "execution_count": 11,
   "metadata": {
    "collapsed": false
   },
   "outputs": [
    {
     "data": {
      "text/html": [
       "361.23402562774"
      ],
      "text/latex": [
       "361.23402562774"
      ],
      "text/markdown": [
       "361.23402562774"
      ],
      "text/plain": [
       "[1] 361.234"
      ]
     },
     "metadata": {},
     "output_type": "display_data"
    }
   ],
   "source": [
    "var(mort06.smpl$age,na.rm=T)"
   ]
  },
  {
   "cell_type": "code",
   "execution_count": 12,
   "metadata": {
    "collapsed": false
   },
   "outputs": [
    {
     "data": {
      "text/html": [
       "23"
      ],
      "text/latex": [
       "23"
      ],
      "text/markdown": [
       "23"
      ],
      "text/plain": [
       "[1] 23"
      ]
     },
     "metadata": {},
     "output_type": "display_data"
    }
   ],
   "source": [
    "IQR(mort06.smpl$age,na.rm=T)"
   ]
  },
  {
   "cell_type": "code",
   "execution_count": 14,
   "metadata": {
    "collapsed": false
   },
   "outputs": [
    {
     "data": {
      "text/html": [
       "<ol class=list-inline>\n",
       "\t<li>0</li>\n",
       "\t<li>112</li>\n",
       "</ol>\n"
      ],
      "text/latex": [
       "\\begin{enumerate*}\n",
       "\\item 0\n",
       "\\item 112\n",
       "\\end{enumerate*}\n"
      ],
      "text/markdown": [
       "1. 0\n",
       "2. 112\n",
       "\n",
       "\n"
      ],
      "text/plain": [
       "[1]   0 112"
      ]
     },
     "metadata": {},
     "output_type": "display_data"
    }
   ],
   "source": [
    "range(mort06.smpl$age,na.rm=T)"
   ]
  },
  {
   "cell_type": "code",
   "execution_count": 15,
   "metadata": {
    "collapsed": true
   },
   "outputs": [],
   "source": [
    "t<-table(mort06.smpl$Sex,mort06.smpl$Cause)"
   ]
  },
  {
   "cell_type": "code",
   "execution_count": 16,
   "metadata": {
    "collapsed": false,
    "scrolled": true
   },
   "outputs": [
    {
     "name": "stdout",
     "output_type": "stream",
     "text": [
      "   \n",
      "    Accidents Alzheimer's Disease Cancer Chronic respiratory diseases Diabetes\n",
      "  F      4362                5167  27275                         6509     3718\n",
      "  M      8009                2169  29887                         5878     3554\n",
      "   \n",
      "    Heart Disease Homicide Influenza and pheumonia Other Suicide\n",
      "  F         42993      398                    3153 28381     679\n",
      "  M         39604     1521                    2674 24585    2557\n"
     ]
    }
   ],
   "source": [
    "print(t<-table(mort06.smpl$Sex,mort06.smpl$Cause))"
   ]
  },
  {
   "cell_type": "code",
   "execution_count": 17,
   "metadata": {
    "collapsed": false
   },
   "outputs": [
    {
     "data": {
      "text/html": [
       "<table>\n",
       "<thead><tr><th></th><th scope=col>Accidents</th><th scope=col>Alzheimer's Disease</th><th scope=col>Cancer</th><th scope=col>Chronic respiratory diseases</th><th scope=col>Diabetes</th><th scope=col>Heart Disease</th><th scope=col>Homicide</th><th scope=col>Influenza and pheumonia</th><th scope=col>Other</th><th scope=col>Suicide</th><th scope=col>Sum</th></tr></thead>\n",
       "<tbody>\n",
       "\t<tr><th scope=row>F</th><td> 4362 </td><td>5167  </td><td>27275 </td><td> 6509 </td><td>3718  </td><td>42993 </td><td> 398  </td><td>3153  </td><td>28381 </td><td> 679  </td><td>122635</td></tr>\n",
       "\t<tr><th scope=row>M</th><td> 8009 </td><td>2169  </td><td>29887 </td><td> 5878 </td><td>3554  </td><td>39604 </td><td>1521  </td><td>2674  </td><td>24585 </td><td>2557  </td><td>120438</td></tr>\n",
       "\t<tr><th scope=row>Sum</th><td>12371 </td><td>7336  </td><td>57162 </td><td>12387 </td><td>7272  </td><td>82597 </td><td>1919  </td><td>5827  </td><td>52966 </td><td>3236  </td><td>243073</td></tr>\n",
       "</tbody>\n",
       "</table>\n"
      ],
      "text/latex": [
       "\\begin{tabular}{r|lllllllllll}\n",
       "  & Accidents & Alzheimer's Disease & Cancer & Chronic respiratory diseases & Diabetes & Heart Disease & Homicide & Influenza and pheumonia & Other & Suicide & Sum\\\\\n",
       "\\hline\n",
       "\tF &  4362  & 5167   & 27275  &  6509  & 3718   & 42993  &  398   & 3153   & 28381  &  679   & 122635\\\\\n",
       "\tM &  8009  & 2169   & 29887  &  5878  & 3554   & 39604  & 1521   & 2674   & 24585  & 2557   & 120438\\\\\n",
       "\tSum & 12371  & 7336   & 57162  & 12387  & 7272   & 82597  & 1919   & 5827   & 52966  & 3236   & 243073\\\\\n",
       "\\end{tabular}\n"
      ],
      "text/markdown": [
       "\n",
       "| <!--/--> | Accidents | Alzheimer's Disease | Cancer | Chronic respiratory diseases | Diabetes | Heart Disease | Homicide | Influenza and pheumonia | Other | Suicide | Sum | \n",
       "|---|---|---|\n",
       "| F |  4362  | 5167   | 27275  |  6509  | 3718   | 42993  |  398   | 3153   | 28381  |  679   | 122635 | \n",
       "| M |  8009  | 2169   | 29887  |  5878  | 3554   | 39604  | 1521   | 2674   | 24585  | 2557   | 120438 | \n",
       "| Sum | 12371  | 7336   | 57162  | 12387  | 7272   | 82597  | 1919   | 5827   | 52966  | 3236   | 243073 | \n",
       "\n",
       "\n"
      ],
      "text/plain": [
       "     \n",
       "      Accidents Alzheimer's Disease Cancer Chronic respiratory diseases\n",
       "  F    4362     5167                27275   6509                       \n",
       "  M    8009     2169                29887   5878                       \n",
       "  Sum 12371     7336                57162  12387                       \n",
       "     \n",
       "      Diabetes Heart Disease Homicide Influenza and pheumonia Other Suicide\n",
       "  F   3718     42993          398     3153                    28381  679   \n",
       "  M   3554     39604         1521     2674                    24585 2557   \n",
       "  Sum 7272     82597         1919     5827                    52966 3236   \n",
       "     \n",
       "      Sum   \n",
       "  F   122635\n",
       "  M   120438\n",
       "  Sum 243073"
      ]
     },
     "metadata": {},
     "output_type": "display_data"
    }
   ],
   "source": [
    "addmargins(t)"
   ]
  },
  {
   "cell_type": "code",
   "execution_count": 24,
   "metadata": {
    "collapsed": false
   },
   "outputs": [
    {
     "data": {
      "text/plain": [
       "   \n",
       "    Accidents Alzheimer's Disease Cancer Chronic respiratory diseases Diabetes\n",
       "  F      0.02                0.02   0.11                         0.03     0.02\n",
       "  M      0.03                0.01   0.12                         0.02     0.01\n",
       "   \n",
       "    Heart Disease Homicide Influenza and pheumonia Other Suicide\n",
       "  F          0.18     0.00                    0.01  0.12    0.00\n",
       "  M          0.16     0.01                    0.01  0.10    0.01"
      ]
     },
     "metadata": {},
     "output_type": "display_data"
    }
   ],
   "source": [
    "round(prop.table(t),2)"
   ]
  },
  {
   "cell_type": "code",
   "execution_count": 25,
   "metadata": {
    "collapsed": false
   },
   "outputs": [
    {
     "data": {
      "text/plain": [
       "   \n",
       "    Accidents Alzheimer's Disease Cancer Chronic respiratory diseases Diabetes\n",
       "  F     0.036               0.042  0.222                        0.053    0.030\n",
       "  M     0.066               0.018  0.248                        0.049    0.030\n",
       "   \n",
       "    Heart Disease Homicide Influenza and pheumonia Other Suicide\n",
       "  F         0.351    0.003                   0.026 0.231   0.006\n",
       "  M         0.329    0.013                   0.022 0.204   0.021"
      ]
     },
     "metadata": {},
     "output_type": "display_data"
    }
   ],
   "source": [
    "round(prop.table(t,1),3)"
   ]
  },
  {
   "cell_type": "code",
   "execution_count": 26,
   "metadata": {
    "collapsed": false
   },
   "outputs": [
    {
     "data": {
      "text/plain": [
       "   \n",
       "    Accidents Alzheimer's Disease Cancer Chronic respiratory diseases Diabetes\n",
       "  F     0.353               0.704  0.477                        0.525    0.511\n",
       "  M     0.647               0.296  0.523                        0.475    0.489\n",
       "   \n",
       "    Heart Disease Homicide Influenza and pheumonia Other Suicide\n",
       "  F         0.521    0.207                   0.541 0.536   0.210\n",
       "  M         0.479    0.793                   0.459 0.464   0.790"
      ]
     },
     "metadata": {},
     "output_type": "display_data"
    }
   ],
   "source": [
    "round(prop.table(t,2),3)"
   ]
  },
  {
   "cell_type": "code",
   "execution_count": null,
   "metadata": {
    "collapsed": true
   },
   "outputs": [],
   "source": [
    "# Evidence shows that women has higher death risk than men in Alzheimer's Disease,\n",
    "# however, men has higher death risk than women in accients and suicide.\n"
   ]
  }
 ],
 "metadata": {
  "kernelspec": {
   "display_name": "R",
   "language": "R",
   "name": "ir"
  },
  "language_info": {
   "codemirror_mode": "r",
   "file_extension": ".r",
   "mimetype": "text/x-r-source",
   "name": "R",
   "pygments_lexer": "r",
   "version": "3.3.2"
  }
 },
 "nbformat": 4,
 "nbformat_minor": 2
}
