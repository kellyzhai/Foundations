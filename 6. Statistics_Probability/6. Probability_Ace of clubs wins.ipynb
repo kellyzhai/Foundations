{
 "cells": [
  {
   "cell_type": "code",
   "execution_count": 92,
   "metadata": {
    "collapsed": true
   },
   "outputs": [],
   "source": [
    "import random\n",
    "import pandas as pd\n",
    "import numpy as np\n",
    "%matplotlib inline\n",
    "import matplotlib.pyplot as plt"
   ]
  },
  {
   "cell_type": "markdown",
   "metadata": {},
   "source": [
    "# Simulation"
   ]
  },
  {
   "cell_type": "code",
   "execution_count": 94,
   "metadata": {
    "collapsed": true
   },
   "outputs": [],
   "source": [
    "def new_deck():\n",
    "    \"\"\"\n",
    "    create a deck of cards\n",
    "    suits = {\n",
    "    0: 'Clubs',\n",
    "    1: 'Diamonds',\n",
    "    2: 'Hearts',\n",
    "    3: 'Spades'}\n",
    "    \n",
    "    cards = {\n",
    "    0: 'Ace',\n",
    "    1: '2',\n",
    "    2: '3',\n",
    "    3: '4',\n",
    "    4: '5',\n",
    "    5: '6',\n",
    "    6: '7',\n",
    "    7: '8',\n",
    "    8: '9',\n",
    "    9: 'T',\n",
    "    10: 'Jack',\n",
    "    11: 'Queen',\n",
    "    12: 'King'}\n",
    "    \n",
    "    \"\"\"\n",
    "    rs = [rank + suit for rank in \"A23456789TJQK\" for suit in \"CDHS\"]\n",
    "    return rs"
   ]
  },
  {
   "cell_type": "code",
   "execution_count": 97,
   "metadata": {},
   "outputs": [
    {
     "data": {
      "text/plain": [
       "['AC',\n",
       " 'AD',\n",
       " 'AH',\n",
       " 'AS',\n",
       " '2C',\n",
       " '2D',\n",
       " '2H',\n",
       " '2S',\n",
       " '3C',\n",
       " '3D',\n",
       " '3H',\n",
       " '3S',\n",
       " '4C',\n",
       " '4D',\n",
       " '4H',\n",
       " '4S',\n",
       " '5C',\n",
       " '5D',\n",
       " '5H',\n",
       " '5S',\n",
       " '6C',\n",
       " '6D',\n",
       " '6H',\n",
       " '6S',\n",
       " '7C',\n",
       " '7D',\n",
       " '7H',\n",
       " '7S',\n",
       " '8C',\n",
       " '8D',\n",
       " '8H',\n",
       " '8S',\n",
       " '9C',\n",
       " '9D',\n",
       " '9H',\n",
       " '9S',\n",
       " 'TC',\n",
       " 'TD',\n",
       " 'TH',\n",
       " 'TS',\n",
       " 'JC',\n",
       " 'JD',\n",
       " 'JH',\n",
       " 'JS',\n",
       " 'QC',\n",
       " 'QD',\n",
       " 'QH',\n",
       " 'QS',\n",
       " 'KC',\n",
       " 'KD',\n",
       " 'KH',\n",
       " 'KS']"
      ]
     },
     "execution_count": 97,
     "metadata": {},
     "output_type": "execute_result"
    }
   ],
   "source": [
    "deck=new_deck()\n",
    "deck"
   ]
  },
  {
   "cell_type": "code",
   "execution_count": 96,
   "metadata": {
    "collapsed": true
   },
   "outputs": [],
   "source": [
    "def random_cards():\n",
    "    return random.choice(deck)"
   ]
  },
  {
   "cell_type": "code",
   "execution_count": 106,
   "metadata": {},
   "outputs": [
    {
     "name": "stdout",
     "output_type": "stream",
     "text": [
      "P(redcards): 0.5\n",
      "P(spadecards): 0.249\n",
      "P(clubcards): 0.231\n",
      "P(acecards): 0.019\n",
      "redcards:  50002\n",
      "spadecards:  24899\n",
      "clubcards:  23149\n",
      "acecards:  1950\n"
     ]
    }
   ],
   "source": [
    "\n",
    "#  %%prun  1399296 function calls in 0.476 seconds\n",
    "\n",
    "red = 0\n",
    "spade = 0\n",
    "club = 0\n",
    "ace=0\n",
    "\n",
    "redcard = [\"AD\",\"2D\",\"3D\",\"4D\",\"5D\",\"6D\",\"7D\",\"8D\",\"9D\",\"TD\",\"JD\",\"QD\",\"KD\",\"AH\",\n",
    "           \"2H\",\"3H\",\"4H\",\"5H\",\"6H\",\"7H\",\"8H\",\"9H\",\"TH\",\"JH\",\"QH\",\"KH\"]\n",
    "\n",
    "spadecard = [\"AS\",\"2S\",\"3S\",\"4S\",\"5S\",\"6S\",\"7S\",\"8S\",\"9S\",\"TS\",\"JS\",\"QS\",\"KS\"]\n",
    "\n",
    "clubcard = [\"2C\",\"3C\",\"4C\",\"5C\",\"6C\",\"7C\",\"8C\",\"9C\",\"TC\",\"JC\",\"QC\",\"KC\"]\n",
    "\n",
    "acecard = ['AC']\n",
    "\n",
    "random.seed(0)\n",
    "\n",
    "for _ in range(100000):\n",
    "   \n",
    "    drawcards= random_cards() \n",
    "    \n",
    "    if drawcards in redcard:\n",
    "        red += 1\n",
    "    if drawcards in spadecard:\n",
    "        spade += 1\n",
    "    if drawcards in clubcard:\n",
    "        club += 1\n",
    "    if drawcards in acecard:\n",
    "        ace += 1\n",
    "\n",
    "# sumcards= drawcards.sum()\n",
    "\n",
    "print ('P(redcards):', round(red/100000,3)) \n",
    "print ('P(spadecards):' , round(spade/100000,3))\n",
    "print ('P(clubcards):' , round(club/100000,3))\n",
    "print ('P(acecards):' , round(ace/100000,3)) \n",
    "\n",
    "print('redcards: ',red)\n",
    "print('spadecards: ',spade)\n",
    "print('clubcards: ',club)\n",
    "print('acecards: ',ace)"
   ]
  },
  {
   "cell_type": "markdown",
   "metadata": {},
   "source": [
    "the expected winnings for a single game and the standard\n",
    "deviation of the winnings."
   ]
  },
  {
   "cell_type": "code",
   "execution_count": 107,
   "metadata": {},
   "outputs": [
    {
     "name": "stdout",
     "output_type": "stream",
     "text": [
      "Expected Winnings 4.125\n"
     ]
    }
   ],
   "source": [
    "meanofcards=0*round(red/100000,3)+5*round(spade/100000,3)+10*round(club/100000,3)+30*round(ace/100000,3)\n",
    "print(\"Expected Winnings:\",meanofcards)"
   ]
  },
  {
   "cell_type": "code",
   "execution_count": 119,
   "metadata": {},
   "outputs": [
    {
     "name": "stdout",
     "output_type": "stream",
     "text": [
      "Standard Deviation: 5.421472067160357\n"
     ]
    }
   ],
   "source": [
    "import math\n",
    "\n",
    "StandDev= math.sqrt( (((0-meanofcards)*(0-meanofcards))*round(red/100000,3))+(((5-meanofcards)*(5-meanofcards))*round(spade/100000,3))+\n",
    "                    (((10-meanofcards)*(10-meanofcards))*round(club/100000,3))+(((30-meanofcards)*(30-meanofcards))*round(ace/100000,3)))\n",
    "\n",
    "print(\"Standard Deviation:\", StandDev)"
   ]
  },
  {
   "cell_type": "code",
   "execution_count": 128,
   "metadata": {},
   "outputs": [
    {
     "data": {
      "text/plain": [
       "'\\nI would pay upto $5, because the distribution mean is $4.125, that means half time you will make $4.125, the other half time you will make the expected winnings $4.125 or $4.125± 5.4.\\n'"
      ]
     },
     "execution_count": 128,
     "metadata": {},
     "output_type": "execute_result"
    }
   ],
   "source": [
    "\"\"\"\n",
    "I would pay upto $5, because the distribution mean is $4.125, that means half time you will make $4.125, the other half time you will make the expected winnings $4.125 or $4.125± 5.4.\n",
    "\"\"\""
   ]
  }
 ],
 "metadata": {
  "kernelspec": {
   "display_name": "Python 3",
   "language": "python",
   "name": "python3"
  },
  "language_info": {
   "codemirror_mode": {
    "name": "ipython",
    "version": 3
   },
   "file_extension": ".py",
   "mimetype": "text/x-python",
   "name": "python",
   "nbconvert_exporter": "python",
   "pygments_lexer": "ipython3",
   "version": "3.6.3"
  }
 },
 "nbformat": 4,
 "nbformat_minor": 2
}
